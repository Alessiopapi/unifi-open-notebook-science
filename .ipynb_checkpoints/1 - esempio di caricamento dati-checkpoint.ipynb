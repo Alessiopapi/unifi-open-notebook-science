{
 "cells": [
  {
   "cell_type": "code",
   "execution_count": 14,
   "metadata": {
    "collapsed": true
   },
   "outputs": [],
   "source": [
    "#importiamo la liberia che permette di navigare sulle cartelle del PC\n",
    "import os\n",
    "import pandas as pd\n",
    "import time "
   ]
  },
  {
   "cell_type": "code",
   "execution_count": null,
   "metadata": {
    "collapsed": false
   },
   "outputs": [],
   "source": [
    "\n",
    "\n",
    "            \n",
    "    \n",
    "    \n",
    "    \n",
    "    "
   ]
  },
  {
   "cell_type": "code",
   "execution_count": 15,
   "metadata": {
    "collapsed": false
   },
   "outputs": [],
   "source": [
    "def seleziona_dominio(selezione = False):\n",
    "    '''\n",
    "    restituisce un oggetto con dentro tutti i dataset del singolo dominio\n",
    "    è possibile accedere al dataset con\n",
    "    risultato[codice rappresentativo del dataset]\n",
    "    il codice rappresentativo del dataset è individuabile in nota\n",
    "    \n",
    "    '''\n",
    "    print(\"seleziona il dominio BES da esplorare - indica il codice a due cifre (es, salute = 01):\")\n",
    "    lista_domini = os.listdir(os.path.join(os.getcwd(), 'Appendice-statistica-2016'))\n",
    "    dizionario_per_selezione = {}\n",
    "    for dominio in lista_domini:\n",
    "        print(dominio)\n",
    "        dizionario_per_selezione[dominio[0:2]] = dominio\n",
    "    print(\"------------------------------------------------------------\")\n",
    "    print(\"inserisci il codice preselto\")    \n",
    "    if selezione == False:\n",
    "        a = raw_input()\n",
    "    else:\n",
    "        a = str(selezione)\n",
    "    print(\"selezionato \" + a)\n",
    "    print(\"------------------------------------------------------------\")\n",
    "    \n",
    "    dataset_presenti_dominio = os.listdir(os.path.join(os.getcwd(), 'Appendice-statistica-2016', dizionario_per_selezione[a]))    \n",
    "    print(\"\"\"\n",
    "    xxxxxx--------------------------------------------xxxxxx\n",
    "    --------------------------\n",
    "    ------------\n",
    "    \n",
    "    \n",
    "    \n",
    "    NOTA DI SEGUITO TROVERETE UNA SEQUENZA DI STRINGHE CHE RAPPRESENTANO I DIVERSI DATASET E IL CODICE CON CUI LO POTRETE RICHIAMARE\n",
    "    il primo a numero a sinistra, prima della prima virgola, rappresenta il codice con cui richiamare successivamente il dataset\n",
    "    esempio 1\n",
    "    (0, u'Regione ', u'Tavola 1.1 - Posti letto nei presidi residenziali socio-assistenziali e socio-sanitari per regione  e ripartizione ')\n",
    "    per richiamare questo dataset scrivere nella successiva cella dataset_dominio[0]\n",
    "    \n",
    "    \n",
    "    esempio 2\n",
    "    Cap_02_Istruzione 07.xlsx\n",
    "    (14, u'REG Maschi-Femmine', u\"Tavola 7.1 - Persone di 25-64 anni che hanno partecipato ad attivit\\xe0 di istruzione e formazione nelle 4 settimane precedenti l'intervista per sesso,\")\n",
    "    per richiamare questo dataset scrivere nella successiva cella dataset_dominio[14]\n",
    "    \n",
    "    ------------\n",
    "    --------------------------\n",
    "    xxxxxx--------------------------------------------xxxxxx\n",
    "    \"\"\")\n",
    "    \n",
    "    time.sleep(5)\n",
    "    \n",
    "    print(\"ecco la lista dei dataset presenti:\")\n",
    "    print(\"------------------------------------\")\n",
    "    \n",
    "    \n",
    "    \n",
    "    \n",
    "    repo_dataset = {}\n",
    "    nsheet = 0\n",
    "    for dataset in dataset_presenti_dominio:\n",
    "        \n",
    "        print(\"------------------------------------------------------------\")\n",
    "        print(dataset)\n",
    "        if dataset[-4:] == \"xlsx\":\n",
    "            posizione_del_file = os.path.join(os.getcwd(), 'Appendice-statistica-2016', dizionario_per_selezione[a], dataset)\n",
    "            sheets= pd.read_excel(posizione_del_file, sheetname = None)\n",
    "            for sheet in sheets.keys():\n",
    "                try:\n",
    "                    print(nsheet, sheet, sheets[sheet].iloc[1,0])\n",
    "                    repo_dataset[nsheet] = sheets[sheet]\n",
    "                    nsheet += 1\n",
    "                    print(\"-------------------------\")\n",
    "                except:\n",
    "                    print(\"errore\", nsheet, sheet)\n",
    "    \n",
    "    return repo_dataset"
   ]
  },
  {
   "cell_type": "code",
   "execution_count": null,
   "metadata": {
    "collapsed": false
   },
   "outputs": [],
   "source": [
    "dataset_dominio = seleziona_dominio()"
   ]
  },
  {
   "cell_type": "code",
   "execution_count": null,
   "metadata": {
    "collapsed": false
   },
   "outputs": [],
   "source": [
    "# a titolo di esempio seleziono il dataset codice 12 \n",
    "# u'Tavola 11.1 - Famiglie che dichiarano molta difficolt\\xe0 a raggiungere almeno 3 servizi essenziali (a)\n",
    "esempio = dataset_dominio[12]"
   ]
  },
  {
   "cell_type": "code",
   "execution_count": null,
   "metadata": {
    "collapsed": false
   },
   "outputs": [],
   "source": [
    "#il dataset non è formattato correttamente per analisi statistiche..\n",
    "esempio"
   ]
  },
  {
   "cell_type": "code",
   "execution_count": null,
   "metadata": {
    "collapsed": false
   },
   "outputs": [],
   "source": [
    "#... quindi lo riportiamo in forma normale \n",
    "\n",
    "#1) la riga 4 contiene l'intestazione di colonna e la mettiamo come tale con questa operazione\n",
    "esempio.columns = tavola11_1.iloc[4]\n",
    "\n",
    "#2) eliminiamo la riga 4 che ormai è superflua\n",
    "esempio.drop(4, inplace = True)"
   ]
  },
  {
   "cell_type": "code",
   "execution_count": null,
   "metadata": {
    "collapsed": false
   },
   "outputs": [],
   "source": []
  },
  {
   "cell_type": "code",
   "execution_count": null,
   "metadata": {
    "collapsed": false
   },
   "outputs": [],
   "source": [
    "esempio.dropna()"
   ]
  },
  {
   "cell_type": "code",
   "execution_count": null,
   "metadata": {
    "collapsed": true
   },
   "outputs": [],
   "source": []
  },
  {
   "cell_type": "code",
   "execution_count": null,
   "metadata": {
    "collapsed": true
   },
   "outputs": [],
   "source": []
  },
  {
   "cell_type": "code",
   "execution_count": null,
   "metadata": {
    "collapsed": true
   },
   "outputs": [],
   "source": []
  },
  {
   "cell_type": "code",
   "execution_count": null,
   "metadata": {
    "collapsed": true
   },
   "outputs": [],
   "source": [
    "#funzione alternativa \n",
    "\n",
    "def seleziona_dataset():\n",
    "    '''questa funzione permette di accedere al singolo dataset seguendo una procedura guidata'''\n",
    "    print(\"seleziona il dominio BES da esplorare - indica il codice a due cifre (es, salute = 01):\")\n",
    "    lista_domini = os.listdir(os.path.join(os.getcwd(), 'Appendice-statistica-2016'))\n",
    "    dizionario_per_selezione = {}\n",
    "    for dominio in lista_domini:\n",
    "        print(dominio)\n",
    "        dizionario_per_selezione[dominio[0:2]] = dominio\n",
    "    print(\" \")\n",
    "    print(\"inserisci il codice preselto\")    \n",
    "    a = raw_input()\n",
    "    print(\"selezionato \" + a)\n",
    "    print(\" \")\n",
    "    \n",
    "    dataset_presenti_dominio = os.listdir(os.path.join(os.getcwd(), 'Appendice-statistica-2016', dizionario_per_selezione[a]))    \n",
    "    print(\"ecco la lista dei dataset presenti\")\n",
    "    for dataset in enumerate(dataset_presenti_dominio):\n",
    "        print(str(dataset[0]) + \" \" + dataset[1])\n",
    "    print(\" \")\n",
    "    print(\"seleziona il dataset, utilizzando il codice ad inizio riga (es, Cap_10_Ambiente 01.xlsx = 0)\")\n",
    "    b = raw_input()\n",
    "    posizione_del_file = os.path.join(os.getcwd(), 'Appendice-statistica-2016', dizionario_per_selezione[a], dataset_presenti_dominio[int(b)])\n",
    "    return pd.read_excel(posizione_del_file, sheetname = None)"
   ]
  }
 ],
 "metadata": {
  "kernelspec": {
   "display_name": "Python 2",
   "language": "python",
   "name": "python2"
  },
  "language_info": {
   "codemirror_mode": {
    "name": "ipython",
    "version": 2
   },
   "file_extension": ".py",
   "mimetype": "text/x-python",
   "name": "python",
   "nbconvert_exporter": "python",
   "pygments_lexer": "ipython2",
   "version": "2.7.11"
  }
 },
 "nbformat": 4,
 "nbformat_minor": 0
}
